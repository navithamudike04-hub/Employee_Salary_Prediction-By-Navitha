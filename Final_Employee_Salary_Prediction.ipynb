{
 "cells": [
  {
   "cell_type": "code",
   "execution_count": 40,
   "id": "bda1989a-51ac-4a0e-83d0-63622c232438",
   "metadata": {},
   "outputs": [],
   "source": [
    "import pandas as pd"
   ]
  },
  {
   "cell_type": "code",
   "execution_count": 41,
   "id": "a7e1390b-f78e-4ed4-bb8e-f85c05d6f491",
   "metadata": {},
   "outputs": [],
   "source": [
    "df = pd.read_csv(\"Enhanced_Salary_Data.csv\")"
   ]
  },
  {
   "cell_type": "code",
   "execution_count": 42,
   "id": "18aa8126-aefe-4f14-9281-8007db2cc7ce",
   "metadata": {},
   "outputs": [
    {
     "data": {
      "text/html": [
       "<div>\n",
       "<style scoped>\n",
       "    .dataframe tbody tr th:only-of-type {\n",
       "        vertical-align: middle;\n",
       "    }\n",
       "\n",
       "    .dataframe tbody tr th {\n",
       "        vertical-align: top;\n",
       "    }\n",
       "\n",
       "    .dataframe thead th {\n",
       "        text-align: right;\n",
       "    }\n",
       "</style>\n",
       "<table border=\"1\" class=\"dataframe\">\n",
       "  <thead>\n",
       "    <tr style=\"text-align: right;\">\n",
       "      <th></th>\n",
       "      <th>Age</th>\n",
       "      <th>Gender</th>\n",
       "      <th>Education Level</th>\n",
       "      <th>Job Title</th>\n",
       "      <th>Years of Experience</th>\n",
       "      <th>Salary</th>\n",
       "      <th>City</th>\n",
       "      <th>Seniority Level</th>\n",
       "      <th>Industry</th>\n",
       "      <th>Remote Status</th>\n",
       "    </tr>\n",
       "  </thead>\n",
       "  <tbody>\n",
       "    <tr>\n",
       "      <th>0</th>\n",
       "      <td>32.0</td>\n",
       "      <td>Male</td>\n",
       "      <td>Bachelor's</td>\n",
       "      <td>Software Engineer</td>\n",
       "      <td>5.0</td>\n",
       "      <td>90000.0</td>\n",
       "      <td>Hyderabad</td>\n",
       "      <td>Junior</td>\n",
       "      <td>IT</td>\n",
       "      <td>Remote</td>\n",
       "    </tr>\n",
       "    <tr>\n",
       "      <th>1</th>\n",
       "      <td>28.0</td>\n",
       "      <td>Female</td>\n",
       "      <td>Master's</td>\n",
       "      <td>Data Analyst</td>\n",
       "      <td>3.0</td>\n",
       "      <td>65000.0</td>\n",
       "      <td>Mumbai</td>\n",
       "      <td>Junior</td>\n",
       "      <td>Analytics</td>\n",
       "      <td>Onsite</td>\n",
       "    </tr>\n",
       "    <tr>\n",
       "      <th>2</th>\n",
       "      <td>45.0</td>\n",
       "      <td>Male</td>\n",
       "      <td>PhD</td>\n",
       "      <td>Senior Manager</td>\n",
       "      <td>15.0</td>\n",
       "      <td>150000.0</td>\n",
       "      <td>Delhi</td>\n",
       "      <td>Senior</td>\n",
       "      <td>Management</td>\n",
       "      <td>Remote</td>\n",
       "    </tr>\n",
       "    <tr>\n",
       "      <th>3</th>\n",
       "      <td>36.0</td>\n",
       "      <td>Female</td>\n",
       "      <td>Bachelor's</td>\n",
       "      <td>Sales Associate</td>\n",
       "      <td>7.0</td>\n",
       "      <td>60000.0</td>\n",
       "      <td>Mumbai</td>\n",
       "      <td>Junior</td>\n",
       "      <td>Sales</td>\n",
       "      <td>Hybrid</td>\n",
       "    </tr>\n",
       "    <tr>\n",
       "      <th>4</th>\n",
       "      <td>52.0</td>\n",
       "      <td>Male</td>\n",
       "      <td>Master's</td>\n",
       "      <td>Director</td>\n",
       "      <td>20.0</td>\n",
       "      <td>200000.0</td>\n",
       "      <td>Bangalore</td>\n",
       "      <td>Senior</td>\n",
       "      <td>Management</td>\n",
       "      <td>Remote</td>\n",
       "    </tr>\n",
       "    <tr>\n",
       "      <th>...</th>\n",
       "      <td>...</td>\n",
       "      <td>...</td>\n",
       "      <td>...</td>\n",
       "      <td>...</td>\n",
       "      <td>...</td>\n",
       "      <td>...</td>\n",
       "      <td>...</td>\n",
       "      <td>...</td>\n",
       "      <td>...</td>\n",
       "      <td>...</td>\n",
       "    </tr>\n",
       "    <tr>\n",
       "      <th>6699</th>\n",
       "      <td>49.0</td>\n",
       "      <td>Female</td>\n",
       "      <td>PhD</td>\n",
       "      <td>Director of Marketing</td>\n",
       "      <td>20.0</td>\n",
       "      <td>200000.0</td>\n",
       "      <td>Hyderabad</td>\n",
       "      <td>Senior</td>\n",
       "      <td>Management</td>\n",
       "      <td>Remote</td>\n",
       "    </tr>\n",
       "    <tr>\n",
       "      <th>6700</th>\n",
       "      <td>32.0</td>\n",
       "      <td>Male</td>\n",
       "      <td>High School</td>\n",
       "      <td>Sales Associate</td>\n",
       "      <td>3.0</td>\n",
       "      <td>50000.0</td>\n",
       "      <td>Mumbai</td>\n",
       "      <td>Junior</td>\n",
       "      <td>Sales</td>\n",
       "      <td>Remote</td>\n",
       "    </tr>\n",
       "    <tr>\n",
       "      <th>6701</th>\n",
       "      <td>30.0</td>\n",
       "      <td>Female</td>\n",
       "      <td>Bachelor's Degree</td>\n",
       "      <td>Financial Manager</td>\n",
       "      <td>4.0</td>\n",
       "      <td>55000.0</td>\n",
       "      <td>Pune</td>\n",
       "      <td>Mid</td>\n",
       "      <td>Management</td>\n",
       "      <td>Remote</td>\n",
       "    </tr>\n",
       "    <tr>\n",
       "      <th>6702</th>\n",
       "      <td>46.0</td>\n",
       "      <td>Male</td>\n",
       "      <td>Master's Degree</td>\n",
       "      <td>Marketing Manager</td>\n",
       "      <td>14.0</td>\n",
       "      <td>140000.0</td>\n",
       "      <td>Bangalore</td>\n",
       "      <td>Mid</td>\n",
       "      <td>Management</td>\n",
       "      <td>Onsite</td>\n",
       "    </tr>\n",
       "    <tr>\n",
       "      <th>6703</th>\n",
       "      <td>26.0</td>\n",
       "      <td>Female</td>\n",
       "      <td>High School</td>\n",
       "      <td>Sales Executive</td>\n",
       "      <td>1.0</td>\n",
       "      <td>35000.0</td>\n",
       "      <td>Delhi</td>\n",
       "      <td>Junior</td>\n",
       "      <td>Sales</td>\n",
       "      <td>Hybrid</td>\n",
       "    </tr>\n",
       "  </tbody>\n",
       "</table>\n",
       "<p>6704 rows × 10 columns</p>\n",
       "</div>"
      ],
      "text/plain": [
       "       Age  Gender    Education Level              Job Title  \\\n",
       "0     32.0    Male         Bachelor's      Software Engineer   \n",
       "1     28.0  Female           Master's           Data Analyst   \n",
       "2     45.0    Male                PhD         Senior Manager   \n",
       "3     36.0  Female         Bachelor's        Sales Associate   \n",
       "4     52.0    Male           Master's               Director   \n",
       "...    ...     ...                ...                    ...   \n",
       "6699  49.0  Female                PhD  Director of Marketing   \n",
       "6700  32.0    Male        High School        Sales Associate   \n",
       "6701  30.0  Female  Bachelor's Degree      Financial Manager   \n",
       "6702  46.0    Male    Master's Degree      Marketing Manager   \n",
       "6703  26.0  Female        High School        Sales Executive   \n",
       "\n",
       "      Years of Experience    Salary       City Seniority Level    Industry  \\\n",
       "0                     5.0   90000.0  Hyderabad          Junior          IT   \n",
       "1                     3.0   65000.0     Mumbai          Junior   Analytics   \n",
       "2                    15.0  150000.0      Delhi          Senior  Management   \n",
       "3                     7.0   60000.0     Mumbai          Junior       Sales   \n",
       "4                    20.0  200000.0  Bangalore          Senior  Management   \n",
       "...                   ...       ...        ...             ...         ...   \n",
       "6699                 20.0  200000.0  Hyderabad          Senior  Management   \n",
       "6700                  3.0   50000.0     Mumbai          Junior       Sales   \n",
       "6701                  4.0   55000.0       Pune             Mid  Management   \n",
       "6702                 14.0  140000.0  Bangalore             Mid  Management   \n",
       "6703                  1.0   35000.0      Delhi          Junior       Sales   \n",
       "\n",
       "     Remote Status  \n",
       "0           Remote  \n",
       "1           Onsite  \n",
       "2           Remote  \n",
       "3           Hybrid  \n",
       "4           Remote  \n",
       "...            ...  \n",
       "6699        Remote  \n",
       "6700        Remote  \n",
       "6701        Remote  \n",
       "6702        Onsite  \n",
       "6703        Hybrid  \n",
       "\n",
       "[6704 rows x 10 columns]"
      ]
     },
     "execution_count": 42,
     "metadata": {},
     "output_type": "execute_result"
    }
   ],
   "source": [
    "df"
   ]
  },
  {
   "cell_type": "code",
   "execution_count": 43,
   "id": "edb919f6-92e3-47d9-8af2-985ff730a989",
   "metadata": {},
   "outputs": [
    {
     "name": "stdout",
     "output_type": "stream",
     "text": [
      "Shape: (6704, 10)\n"
     ]
    }
   ],
   "source": [
    "print(\"Shape:\", df.shape)"
   ]
  },
  {
   "cell_type": "code",
   "execution_count": 44,
   "id": "c0ee55b1-a80b-4a8d-8ef2-3ded2b789d38",
   "metadata": {},
   "outputs": [
    {
     "name": "stdout",
     "output_type": "stream",
     "text": [
      "\n",
      " Columns:\n",
      " ['Age', 'Gender', 'Education Level', 'Job Title', 'Years of Experience', 'Salary', 'City', 'Seniority Level', 'Industry', 'Remote Status']\n"
     ]
    }
   ],
   "source": [
    "print(\"\\n Columns:\\n\", df.columns.tolist())"
   ]
  },
  {
   "cell_type": "code",
   "execution_count": 45,
   "id": "748f7948-cb10-4736-aabc-3e80eaffaf45",
   "metadata": {},
   "outputs": [
    {
     "data": {
      "text/html": [
       "<div>\n",
       "<style scoped>\n",
       "    .dataframe tbody tr th:only-of-type {\n",
       "        vertical-align: middle;\n",
       "    }\n",
       "\n",
       "    .dataframe tbody tr th {\n",
       "        vertical-align: top;\n",
       "    }\n",
       "\n",
       "    .dataframe thead th {\n",
       "        text-align: right;\n",
       "    }\n",
       "</style>\n",
       "<table border=\"1\" class=\"dataframe\">\n",
       "  <thead>\n",
       "    <tr style=\"text-align: right;\">\n",
       "      <th></th>\n",
       "      <th>Age</th>\n",
       "      <th>Gender</th>\n",
       "      <th>Education Level</th>\n",
       "      <th>Job Title</th>\n",
       "      <th>Years of Experience</th>\n",
       "      <th>Salary</th>\n",
       "      <th>City</th>\n",
       "      <th>Seniority Level</th>\n",
       "      <th>Industry</th>\n",
       "      <th>Remote Status</th>\n",
       "    </tr>\n",
       "  </thead>\n",
       "  <tbody>\n",
       "    <tr>\n",
       "      <th>0</th>\n",
       "      <td>32.0</td>\n",
       "      <td>Male</td>\n",
       "      <td>Bachelor's</td>\n",
       "      <td>Software Engineer</td>\n",
       "      <td>5.0</td>\n",
       "      <td>90000.0</td>\n",
       "      <td>Hyderabad</td>\n",
       "      <td>Junior</td>\n",
       "      <td>IT</td>\n",
       "      <td>Remote</td>\n",
       "    </tr>\n",
       "    <tr>\n",
       "      <th>1</th>\n",
       "      <td>28.0</td>\n",
       "      <td>Female</td>\n",
       "      <td>Master's</td>\n",
       "      <td>Data Analyst</td>\n",
       "      <td>3.0</td>\n",
       "      <td>65000.0</td>\n",
       "      <td>Mumbai</td>\n",
       "      <td>Junior</td>\n",
       "      <td>Analytics</td>\n",
       "      <td>Onsite</td>\n",
       "    </tr>\n",
       "    <tr>\n",
       "      <th>2</th>\n",
       "      <td>45.0</td>\n",
       "      <td>Male</td>\n",
       "      <td>PhD</td>\n",
       "      <td>Senior Manager</td>\n",
       "      <td>15.0</td>\n",
       "      <td>150000.0</td>\n",
       "      <td>Delhi</td>\n",
       "      <td>Senior</td>\n",
       "      <td>Management</td>\n",
       "      <td>Remote</td>\n",
       "    </tr>\n",
       "    <tr>\n",
       "      <th>3</th>\n",
       "      <td>36.0</td>\n",
       "      <td>Female</td>\n",
       "      <td>Bachelor's</td>\n",
       "      <td>Sales Associate</td>\n",
       "      <td>7.0</td>\n",
       "      <td>60000.0</td>\n",
       "      <td>Mumbai</td>\n",
       "      <td>Junior</td>\n",
       "      <td>Sales</td>\n",
       "      <td>Hybrid</td>\n",
       "    </tr>\n",
       "    <tr>\n",
       "      <th>4</th>\n",
       "      <td>52.0</td>\n",
       "      <td>Male</td>\n",
       "      <td>Master's</td>\n",
       "      <td>Director</td>\n",
       "      <td>20.0</td>\n",
       "      <td>200000.0</td>\n",
       "      <td>Bangalore</td>\n",
       "      <td>Senior</td>\n",
       "      <td>Management</td>\n",
       "      <td>Remote</td>\n",
       "    </tr>\n",
       "  </tbody>\n",
       "</table>\n",
       "</div>"
      ],
      "text/plain": [
       "    Age  Gender Education Level          Job Title  Years of Experience  \\\n",
       "0  32.0    Male      Bachelor's  Software Engineer                  5.0   \n",
       "1  28.0  Female        Master's       Data Analyst                  3.0   \n",
       "2  45.0    Male             PhD     Senior Manager                 15.0   \n",
       "3  36.0  Female      Bachelor's    Sales Associate                  7.0   \n",
       "4  52.0    Male        Master's           Director                 20.0   \n",
       "\n",
       "     Salary       City Seniority Level    Industry Remote Status  \n",
       "0   90000.0  Hyderabad          Junior          IT        Remote  \n",
       "1   65000.0     Mumbai          Junior   Analytics        Onsite  \n",
       "2  150000.0      Delhi          Senior  Management        Remote  \n",
       "3   60000.0     Mumbai          Junior       Sales        Hybrid  \n",
       "4  200000.0  Bangalore          Senior  Management        Remote  "
      ]
     },
     "execution_count": 45,
     "metadata": {},
     "output_type": "execute_result"
    }
   ],
   "source": [
    "df.head()"
   ]
  },
  {
   "cell_type": "code",
   "execution_count": 46,
   "id": "499b8dd4-4ece-4ec0-beb7-b26610c2c214",
   "metadata": {},
   "outputs": [
    {
     "data": {
      "text/html": [
       "<div>\n",
       "<style scoped>\n",
       "    .dataframe tbody tr th:only-of-type {\n",
       "        vertical-align: middle;\n",
       "    }\n",
       "\n",
       "    .dataframe tbody tr th {\n",
       "        vertical-align: top;\n",
       "    }\n",
       "\n",
       "    .dataframe thead th {\n",
       "        text-align: right;\n",
       "    }\n",
       "</style>\n",
       "<table border=\"1\" class=\"dataframe\">\n",
       "  <thead>\n",
       "    <tr style=\"text-align: right;\">\n",
       "      <th></th>\n",
       "      <th>Age</th>\n",
       "      <th>Gender</th>\n",
       "      <th>Education Level</th>\n",
       "      <th>Job Title</th>\n",
       "      <th>Years of Experience</th>\n",
       "      <th>Salary</th>\n",
       "      <th>City</th>\n",
       "      <th>Seniority Level</th>\n",
       "      <th>Industry</th>\n",
       "      <th>Remote Status</th>\n",
       "    </tr>\n",
       "  </thead>\n",
       "  <tbody>\n",
       "    <tr>\n",
       "      <th>6699</th>\n",
       "      <td>49.0</td>\n",
       "      <td>Female</td>\n",
       "      <td>PhD</td>\n",
       "      <td>Director of Marketing</td>\n",
       "      <td>20.0</td>\n",
       "      <td>200000.0</td>\n",
       "      <td>Hyderabad</td>\n",
       "      <td>Senior</td>\n",
       "      <td>Management</td>\n",
       "      <td>Remote</td>\n",
       "    </tr>\n",
       "    <tr>\n",
       "      <th>6700</th>\n",
       "      <td>32.0</td>\n",
       "      <td>Male</td>\n",
       "      <td>High School</td>\n",
       "      <td>Sales Associate</td>\n",
       "      <td>3.0</td>\n",
       "      <td>50000.0</td>\n",
       "      <td>Mumbai</td>\n",
       "      <td>Junior</td>\n",
       "      <td>Sales</td>\n",
       "      <td>Remote</td>\n",
       "    </tr>\n",
       "    <tr>\n",
       "      <th>6701</th>\n",
       "      <td>30.0</td>\n",
       "      <td>Female</td>\n",
       "      <td>Bachelor's Degree</td>\n",
       "      <td>Financial Manager</td>\n",
       "      <td>4.0</td>\n",
       "      <td>55000.0</td>\n",
       "      <td>Pune</td>\n",
       "      <td>Mid</td>\n",
       "      <td>Management</td>\n",
       "      <td>Remote</td>\n",
       "    </tr>\n",
       "    <tr>\n",
       "      <th>6702</th>\n",
       "      <td>46.0</td>\n",
       "      <td>Male</td>\n",
       "      <td>Master's Degree</td>\n",
       "      <td>Marketing Manager</td>\n",
       "      <td>14.0</td>\n",
       "      <td>140000.0</td>\n",
       "      <td>Bangalore</td>\n",
       "      <td>Mid</td>\n",
       "      <td>Management</td>\n",
       "      <td>Onsite</td>\n",
       "    </tr>\n",
       "    <tr>\n",
       "      <th>6703</th>\n",
       "      <td>26.0</td>\n",
       "      <td>Female</td>\n",
       "      <td>High School</td>\n",
       "      <td>Sales Executive</td>\n",
       "      <td>1.0</td>\n",
       "      <td>35000.0</td>\n",
       "      <td>Delhi</td>\n",
       "      <td>Junior</td>\n",
       "      <td>Sales</td>\n",
       "      <td>Hybrid</td>\n",
       "    </tr>\n",
       "  </tbody>\n",
       "</table>\n",
       "</div>"
      ],
      "text/plain": [
       "       Age  Gender    Education Level              Job Title  \\\n",
       "6699  49.0  Female                PhD  Director of Marketing   \n",
       "6700  32.0    Male        High School        Sales Associate   \n",
       "6701  30.0  Female  Bachelor's Degree      Financial Manager   \n",
       "6702  46.0    Male    Master's Degree      Marketing Manager   \n",
       "6703  26.0  Female        High School        Sales Executive   \n",
       "\n",
       "      Years of Experience    Salary       City Seniority Level    Industry  \\\n",
       "6699                 20.0  200000.0  Hyderabad          Senior  Management   \n",
       "6700                  3.0   50000.0     Mumbai          Junior       Sales   \n",
       "6701                  4.0   55000.0       Pune             Mid  Management   \n",
       "6702                 14.0  140000.0  Bangalore             Mid  Management   \n",
       "6703                  1.0   35000.0      Delhi          Junior       Sales   \n",
       "\n",
       "     Remote Status  \n",
       "6699        Remote  \n",
       "6700        Remote  \n",
       "6701        Remote  \n",
       "6702        Onsite  \n",
       "6703        Hybrid  "
      ]
     },
     "execution_count": 46,
     "metadata": {},
     "output_type": "execute_result"
    }
   ],
   "source": [
    "df.tail()"
   ]
  },
  {
   "cell_type": "code",
   "execution_count": 47,
   "id": "e1af2ff8-b696-4197-9a86-c8e4041a1f26",
   "metadata": {},
   "outputs": [
    {
     "name": "stdout",
     "output_type": "stream",
     "text": [
      "\n",
      " Data Types:\n",
      " Age                    float64\n",
      "Gender                  object\n",
      "Education Level         object\n",
      "Job Title               object\n",
      "Years of Experience    float64\n",
      "Salary                 float64\n",
      "City                    object\n",
      "Seniority Level         object\n",
      "Industry                object\n",
      "Remote Status           object\n",
      "dtype: object\n"
     ]
    }
   ],
   "source": [
    "print(\"\\n Data Types:\\n\", df.dtypes)"
   ]
  },
  {
   "cell_type": "code",
   "execution_count": 48,
   "id": "9989b398-3b9a-49a0-93f2-f4d4fe055dc2",
   "metadata": {},
   "outputs": [
    {
     "name": "stdout",
     "output_type": "stream",
     "text": [
      "\n",
      " Numeric Summary:\n",
      "                Age  Years of Experience         Salary\n",
      "count  6702.000000          6701.000000    6699.000000\n",
      "mean     33.620859             8.094687  115326.964771\n",
      "std       7.614633             6.059003   52786.183911\n",
      "min      21.000000             0.000000     350.000000\n",
      "25%      28.000000             3.000000   70000.000000\n",
      "50%      32.000000             7.000000  115000.000000\n",
      "75%      38.000000            12.000000  160000.000000\n",
      "max      62.000000            34.000000  250000.000000\n"
     ]
    }
   ],
   "source": [
    "print(\"\\n Numeric Summary:\\n\", df.describe())"
   ]
  },
  {
   "cell_type": "code",
   "execution_count": 49,
   "id": "d8848315-bbd1-4d08-8d08-00c9c5115cd9",
   "metadata": {},
   "outputs": [
    {
     "name": "stdout",
     "output_type": "stream",
     "text": [
      "\n",
      " Missing Values:\n",
      " Age                    2\n",
      "Gender                 2\n",
      "Education Level        3\n",
      "Job Title              2\n",
      "Years of Experience    3\n",
      "Salary                 5\n",
      "City                   0\n",
      "Seniority Level        0\n",
      "Industry               0\n",
      "Remote Status          0\n",
      "dtype: int64\n"
     ]
    }
   ],
   "source": [
    "print(\"\\n Missing Values:\\n\", df.isnull().sum())"
   ]
  },
  {
   "cell_type": "code",
   "execution_count": 50,
   "id": "502e848c-79f3-45e5-b108-53a70fcccafa",
   "metadata": {},
   "outputs": [],
   "source": [
    "df = df.dropna()"
   ]
  },
  {
   "cell_type": "code",
   "execution_count": 51,
   "id": "dfdc3dfe-eab5-45a9-92ef-f92d23966d7c",
   "metadata": {},
   "outputs": [
    {
     "name": "stdout",
     "output_type": "stream",
     "text": [
      "\n",
      " Missing Values:\n",
      " Age                    0\n",
      "Gender                 0\n",
      "Education Level        0\n",
      "Job Title              0\n",
      "Years of Experience    0\n",
      "Salary                 0\n",
      "City                   0\n",
      "Seniority Level        0\n",
      "Industry               0\n",
      "Remote Status          0\n",
      "dtype: int64\n"
     ]
    }
   ],
   "source": [
    "print(\"\\n Missing Values:\\n\", df.isnull().sum())"
   ]
  },
  {
   "cell_type": "code",
   "execution_count": 52,
   "id": "30fb10ef-ef39-41cd-8b4b-801a6c2e2184",
   "metadata": {},
   "outputs": [
    {
     "name": "stdout",
     "output_type": "stream",
     "text": [
      "\n",
      " Duplicate Rows: 1684\n"
     ]
    }
   ],
   "source": [
    "print(\"\\n Duplicate Rows:\", df.duplicated().sum())"
   ]
  },
  {
   "cell_type": "code",
   "execution_count": 53,
   "id": "85f08c34-efb3-4927-8c06-8c3ef9baf33f",
   "metadata": {},
   "outputs": [],
   "source": [
    "df = df.drop_duplicates()"
   ]
  },
  {
   "cell_type": "code",
   "execution_count": 54,
   "id": "300ba1ad-dd8d-4de8-b2c4-7a0b46807a88",
   "metadata": {},
   "outputs": [
    {
     "name": "stdout",
     "output_type": "stream",
     "text": [
      "\n",
      " Duplicate Rows: 0\n"
     ]
    }
   ],
   "source": [
    "print(\"\\n Duplicate Rows:\", df.duplicated().sum())"
   ]
  },
  {
   "cell_type": "code",
   "execution_count": 55,
   "id": "6fe56795-e5cd-4f56-aab2-4ec506c4fd01",
   "metadata": {},
   "outputs": [],
   "source": [
    "df.reset_index(drop=True, inplace=True)"
   ]
  },
  {
   "cell_type": "code",
   "execution_count": 56,
   "id": "6375059f-6b20-462c-8a32-018b025e5ad9",
   "metadata": {},
   "outputs": [
    {
     "name": "stdout",
     "output_type": "stream",
     "text": [
      " Final Shape: (5014, 10)\n"
     ]
    }
   ],
   "source": [
    "print(\" Final Shape:\", df.shape)"
   ]
  },
  {
   "cell_type": "code",
   "execution_count": 57,
   "id": "27f49e77-9125-4f2e-8028-c7cc4c85cf83",
   "metadata": {},
   "outputs": [],
   "source": [
    "#label encoding\n",
    "#from sklearn.preprocessing import LabelEncoder\n",
    "#encoder=LabelEncoder()\n",
    "#df['Gender']=encoder.fit_transform(df['Gender'])\n",
    "#df['Education Level']=encoder.fit_transform(df['Education Level'])\n",
    "#df['Job Title']=encoder.fit_transform(df['Job Title'])\n",
    "#df['City']=encoder.fit_transform(df['City'])\n",
    "#df['Seniority Level']=encoder.fit_transform(df['Seniority Level'])\n",
    "#df['Industry']=encoder.fit_transform(df['Industry'])\n",
    "#df['Remote Status']=encoder.fit_transform(df['Remote Status'])\n",
    "#df"
   ]
  },
  {
   "cell_type": "code",
   "execution_count": 58,
   "id": "f0c7d4b1-2836-4d36-b084-2d17b68735c7",
   "metadata": {},
   "outputs": [],
   "source": [
    "# Step 1: Define features (X) and target (y)\n",
    "#X = df.drop(\"Salary\", axis=1)\n",
    "#y = df[\"Salary\"]\n",
    "#X"
   ]
  },
  {
   "cell_type": "code",
   "execution_count": 59,
   "id": "a4674132-cec4-408d-a2ea-70a1e6ba2718",
   "metadata": {},
   "outputs": [],
   "source": [
    "#y"
   ]
  },
  {
   "cell_type": "code",
   "execution_count": 60,
   "id": "5f6ee881-7818-43de-ba76-2e1a76c229f5",
   "metadata": {},
   "outputs": [
    {
     "name": "stdout",
     "output_type": "stream",
     "text": [
      "✅ Data preprocessing complete.\n",
      "Shape of X_train: (4011, 220)\n",
      "Shape of X_test: (1003, 220)\n"
     ]
    }
   ],
   "source": [
    "from sklearn.model_selection import train_test_split\n",
    "from sklearn.preprocessing import OneHotEncoder, StandardScaler\n",
    "from sklearn.compose import ColumnTransformer\n",
    "from sklearn.pipeline import Pipeline\n",
    "import numpy as np\n",
    "\n",
    "# Step 1: Define features (X) and target (y)\n",
    "X = df.drop(\"Salary\", axis=1)\n",
    "y = df[\"Salary\"]\n",
    "\n",
    "# Step 2: Identify categorical and numerical columns\n",
    "categorical_cols = [\"Gender\", \"Education Level\", \"Job Title\", \"City\",\n",
    "                    \"Seniority Level\", \"Industry\", \"Remote Status\"]\n",
    "numerical_cols = [\"Age\", \"Years of Experience\"]\n",
    "\n",
    "# Step 3: Create transformers\n",
    "preprocessor = ColumnTransformer([\n",
    "    (\"cat\", OneHotEncoder(handle_unknown=\"ignore\"), categorical_cols),\n",
    "    (\"num\", StandardScaler(), numerical_cols)\n",
    "])\n",
    "\n",
    "# Step 4: Apply preprocessing\n",
    "X_processed = preprocessor.fit_transform(X)\n",
    "\n",
    "# Step 5: Split the dataset\n",
    "X_train, X_test, y_train, y_test = train_test_split(\n",
    "    X_processed, y, test_size=0.2, random_state=42)\n",
    "\n",
    "print(\"✅ Data preprocessing complete.\")\n",
    "print(\"Shape of X_train:\", X_train.shape)\n",
    "print(\"Shape of X_test:\", X_test.shape)\n"
   ]
  },
  {
   "cell_type": "code",
   "execution_count": 61,
   "id": "7f617d53-428b-4541-b1f1-459e92c25343",
   "metadata": {},
   "outputs": [
    {
     "data": {
      "text/html": [
       "<div>\n",
       "<style scoped>\n",
       "    .dataframe tbody tr th:only-of-type {\n",
       "        vertical-align: middle;\n",
       "    }\n",
       "\n",
       "    .dataframe tbody tr th {\n",
       "        vertical-align: top;\n",
       "    }\n",
       "\n",
       "    .dataframe thead th {\n",
       "        text-align: right;\n",
       "    }\n",
       "</style>\n",
       "<table border=\"1\" class=\"dataframe\">\n",
       "  <thead>\n",
       "    <tr style=\"text-align: right;\">\n",
       "      <th></th>\n",
       "      <th>Gender_Female</th>\n",
       "      <th>Gender_Male</th>\n",
       "      <th>Gender_Other</th>\n",
       "      <th>Education Level_Bachelor's</th>\n",
       "      <th>Education Level_Bachelor's Degree</th>\n",
       "      <th>Education Level_High School</th>\n",
       "      <th>Education Level_Master's</th>\n",
       "      <th>Education Level_Master's Degree</th>\n",
       "      <th>Education Level_PhD</th>\n",
       "      <th>Education Level_phD</th>\n",
       "      <th>...</th>\n",
       "      <th>Industry_General</th>\n",
       "      <th>Industry_HR</th>\n",
       "      <th>Industry_IT</th>\n",
       "      <th>Industry_Management</th>\n",
       "      <th>Industry_Sales</th>\n",
       "      <th>Remote Status_Hybrid</th>\n",
       "      <th>Remote Status_Onsite</th>\n",
       "      <th>Remote Status_Remote</th>\n",
       "      <th>Age</th>\n",
       "      <th>Years of Experience</th>\n",
       "    </tr>\n",
       "  </thead>\n",
       "  <tbody>\n",
       "    <tr>\n",
       "      <th>0</th>\n",
       "      <td>0.0</td>\n",
       "      <td>1.0</td>\n",
       "      <td>0.0</td>\n",
       "      <td>1.0</td>\n",
       "      <td>0.0</td>\n",
       "      <td>0.0</td>\n",
       "      <td>0.0</td>\n",
       "      <td>0.0</td>\n",
       "      <td>0.0</td>\n",
       "      <td>0.0</td>\n",
       "      <td>...</td>\n",
       "      <td>0.0</td>\n",
       "      <td>0.0</td>\n",
       "      <td>1.0</td>\n",
       "      <td>0.0</td>\n",
       "      <td>0.0</td>\n",
       "      <td>0.0</td>\n",
       "      <td>0.0</td>\n",
       "      <td>1.0</td>\n",
       "      <td>-0.263486</td>\n",
       "      <td>-0.538752</td>\n",
       "    </tr>\n",
       "    <tr>\n",
       "      <th>1</th>\n",
       "      <td>1.0</td>\n",
       "      <td>0.0</td>\n",
       "      <td>0.0</td>\n",
       "      <td>0.0</td>\n",
       "      <td>0.0</td>\n",
       "      <td>0.0</td>\n",
       "      <td>1.0</td>\n",
       "      <td>0.0</td>\n",
       "      <td>0.0</td>\n",
       "      <td>0.0</td>\n",
       "      <td>...</td>\n",
       "      <td>0.0</td>\n",
       "      <td>0.0</td>\n",
       "      <td>0.0</td>\n",
       "      <td>0.0</td>\n",
       "      <td>0.0</td>\n",
       "      <td>0.0</td>\n",
       "      <td>1.0</td>\n",
       "      <td>0.0</td>\n",
       "      <td>-0.777789</td>\n",
       "      <td>-0.856636</td>\n",
       "    </tr>\n",
       "    <tr>\n",
       "      <th>2</th>\n",
       "      <td>0.0</td>\n",
       "      <td>1.0</td>\n",
       "      <td>0.0</td>\n",
       "      <td>0.0</td>\n",
       "      <td>0.0</td>\n",
       "      <td>0.0</td>\n",
       "      <td>0.0</td>\n",
       "      <td>0.0</td>\n",
       "      <td>1.0</td>\n",
       "      <td>0.0</td>\n",
       "      <td>...</td>\n",
       "      <td>0.0</td>\n",
       "      <td>0.0</td>\n",
       "      <td>0.0</td>\n",
       "      <td>1.0</td>\n",
       "      <td>0.0</td>\n",
       "      <td>0.0</td>\n",
       "      <td>0.0</td>\n",
       "      <td>1.0</td>\n",
       "      <td>1.408001</td>\n",
       "      <td>1.050670</td>\n",
       "    </tr>\n",
       "    <tr>\n",
       "      <th>3</th>\n",
       "      <td>1.0</td>\n",
       "      <td>0.0</td>\n",
       "      <td>0.0</td>\n",
       "      <td>1.0</td>\n",
       "      <td>0.0</td>\n",
       "      <td>0.0</td>\n",
       "      <td>0.0</td>\n",
       "      <td>0.0</td>\n",
       "      <td>0.0</td>\n",
       "      <td>0.0</td>\n",
       "      <td>...</td>\n",
       "      <td>0.0</td>\n",
       "      <td>0.0</td>\n",
       "      <td>0.0</td>\n",
       "      <td>0.0</td>\n",
       "      <td>1.0</td>\n",
       "      <td>1.0</td>\n",
       "      <td>0.0</td>\n",
       "      <td>0.0</td>\n",
       "      <td>0.250818</td>\n",
       "      <td>-0.220867</td>\n",
       "    </tr>\n",
       "    <tr>\n",
       "      <th>4</th>\n",
       "      <td>0.0</td>\n",
       "      <td>1.0</td>\n",
       "      <td>0.0</td>\n",
       "      <td>0.0</td>\n",
       "      <td>0.0</td>\n",
       "      <td>0.0</td>\n",
       "      <td>1.0</td>\n",
       "      <td>0.0</td>\n",
       "      <td>0.0</td>\n",
       "      <td>0.0</td>\n",
       "      <td>...</td>\n",
       "      <td>0.0</td>\n",
       "      <td>0.0</td>\n",
       "      <td>0.0</td>\n",
       "      <td>1.0</td>\n",
       "      <td>0.0</td>\n",
       "      <td>0.0</td>\n",
       "      <td>0.0</td>\n",
       "      <td>1.0</td>\n",
       "      <td>2.308033</td>\n",
       "      <td>1.845381</td>\n",
       "    </tr>\n",
       "  </tbody>\n",
       "</table>\n",
       "<p>5 rows × 220 columns</p>\n",
       "</div>"
      ],
      "text/plain": [
       "   Gender_Female  Gender_Male  Gender_Other  Education Level_Bachelor's  \\\n",
       "0            0.0          1.0           0.0                         1.0   \n",
       "1            1.0          0.0           0.0                         0.0   \n",
       "2            0.0          1.0           0.0                         0.0   \n",
       "3            1.0          0.0           0.0                         1.0   \n",
       "4            0.0          1.0           0.0                         0.0   \n",
       "\n",
       "   Education Level_Bachelor's Degree  Education Level_High School  \\\n",
       "0                                0.0                          0.0   \n",
       "1                                0.0                          0.0   \n",
       "2                                0.0                          0.0   \n",
       "3                                0.0                          0.0   \n",
       "4                                0.0                          0.0   \n",
       "\n",
       "   Education Level_Master's  Education Level_Master's Degree  \\\n",
       "0                       0.0                              0.0   \n",
       "1                       1.0                              0.0   \n",
       "2                       0.0                              0.0   \n",
       "3                       0.0                              0.0   \n",
       "4                       1.0                              0.0   \n",
       "\n",
       "   Education Level_PhD  Education Level_phD  ...  Industry_General  \\\n",
       "0                  0.0                  0.0  ...               0.0   \n",
       "1                  0.0                  0.0  ...               0.0   \n",
       "2                  1.0                  0.0  ...               0.0   \n",
       "3                  0.0                  0.0  ...               0.0   \n",
       "4                  0.0                  0.0  ...               0.0   \n",
       "\n",
       "   Industry_HR  Industry_IT  Industry_Management  Industry_Sales  \\\n",
       "0          0.0          1.0                  0.0             0.0   \n",
       "1          0.0          0.0                  0.0             0.0   \n",
       "2          0.0          0.0                  1.0             0.0   \n",
       "3          0.0          0.0                  0.0             1.0   \n",
       "4          0.0          0.0                  1.0             0.0   \n",
       "\n",
       "   Remote Status_Hybrid  Remote Status_Onsite  Remote Status_Remote       Age  \\\n",
       "0                   0.0                   0.0                   1.0 -0.263486   \n",
       "1                   0.0                   1.0                   0.0 -0.777789   \n",
       "2                   0.0                   0.0                   1.0  1.408001   \n",
       "3                   1.0                   0.0                   0.0  0.250818   \n",
       "4                   0.0                   0.0                   1.0  2.308033   \n",
       "\n",
       "   Years of Experience  \n",
       "0            -0.538752  \n",
       "1            -0.856636  \n",
       "2             1.050670  \n",
       "3            -0.220867  \n",
       "4             1.845381  \n",
       "\n",
       "[5 rows x 220 columns]"
      ]
     },
     "execution_count": 61,
     "metadata": {},
     "output_type": "execute_result"
    }
   ],
   "source": [
    "# Re-import OneHotEncoder to get feature names\n",
    "from sklearn.preprocessing import OneHotEncoder\n",
    "\n",
    "# Get one-hot encoder from the column transformer\n",
    "ohe = preprocessor.named_transformers_['cat']\n",
    "ohe_features = ohe.get_feature_names_out(categorical_cols)\n",
    "\n",
    "# Get the numerical feature names\n",
    "numerical_features = numerical_cols\n",
    "\n",
    "# Combine all feature names\n",
    "all_features = np.concatenate([ohe_features, numerical_features])\n",
    "\n",
    "# Convert X_processed to DataFrame\n",
    "X_processed_df = pd.DataFrame(X_processed.toarray(), columns=all_features)\n",
    "\n",
    "# Display the first few rows\n",
    "X_processed_df.head()\n"
   ]
  },
  {
   "cell_type": "code",
   "execution_count": 62,
   "id": "af52eead-6224-4a91-a6b8-728eee13eba4",
   "metadata": {},
   "outputs": [
    {
     "name": "stderr",
     "output_type": "stream",
     "text": [
      "C:\\Users\\navit\\anaconda3\\envs\\myenv\\Lib\\site-packages\\sklearn\\linear_model\\_coordinate_descent.py:656: ConvergenceWarning: Objective did not converge. You might want to increase the number of iterations, check the scale of the features or consider increasing regularisation. Duality gap: 5.381e+11, tolerance: 1.096e+09\n",
      "  model = cd_fast.sparse_enet_coordinate_descent(\n"
     ]
    },
    {
     "data": {
      "text/html": [
       "<div>\n",
       "<style scoped>\n",
       "    .dataframe tbody tr th:only-of-type {\n",
       "        vertical-align: middle;\n",
       "    }\n",
       "\n",
       "    .dataframe tbody tr th {\n",
       "        vertical-align: top;\n",
       "    }\n",
       "\n",
       "    .dataframe thead th {\n",
       "        text-align: right;\n",
       "    }\n",
       "</style>\n",
       "<table border=\"1\" class=\"dataframe\">\n",
       "  <thead>\n",
       "    <tr style=\"text-align: right;\">\n",
       "      <th></th>\n",
       "      <th>R2 Score</th>\n",
       "      <th>MAE</th>\n",
       "      <th>RMSE</th>\n",
       "    </tr>\n",
       "  </thead>\n",
       "  <tbody>\n",
       "    <tr>\n",
       "      <th>Random Forest</th>\n",
       "      <td>0.9793</td>\n",
       "      <td>3806.69</td>\n",
       "      <td>7606.23</td>\n",
       "    </tr>\n",
       "    <tr>\n",
       "      <th>XGBoost</th>\n",
       "      <td>0.9690</td>\n",
       "      <td>6315.78</td>\n",
       "      <td>9309.19</td>\n",
       "    </tr>\n",
       "    <tr>\n",
       "      <th>Ridge Regression</th>\n",
       "      <td>0.8701</td>\n",
       "      <td>13632.56</td>\n",
       "      <td>19049.36</td>\n",
       "    </tr>\n",
       "    <tr>\n",
       "      <th>Linear Regression</th>\n",
       "      <td>0.8689</td>\n",
       "      <td>13512.46</td>\n",
       "      <td>19135.82</td>\n",
       "    </tr>\n",
       "    <tr>\n",
       "      <th>Lasso Regression</th>\n",
       "      <td>0.8405</td>\n",
       "      <td>14292.38</td>\n",
       "      <td>21105.47</td>\n",
       "    </tr>\n",
       "  </tbody>\n",
       "</table>\n",
       "</div>"
      ],
      "text/plain": [
       "                   R2 Score       MAE      RMSE\n",
       "Random Forest        0.9793   3806.69   7606.23\n",
       "XGBoost              0.9690   6315.78   9309.19\n",
       "Ridge Regression     0.8701  13632.56  19049.36\n",
       "Linear Regression    0.8689  13512.46  19135.82\n",
       "Lasso Regression     0.8405  14292.38  21105.47"
      ]
     },
     "execution_count": 62,
     "metadata": {},
     "output_type": "execute_result"
    }
   ],
   "source": [
    "from sklearn.linear_model import LinearRegression, Ridge, Lasso\n",
    "from sklearn.ensemble import RandomForestRegressor\n",
    "from xgboost import XGBRegressor\n",
    "from sklearn.metrics import mean_absolute_error, mean_squared_error, r2_score\n",
    "import numpy as np\n",
    "\n",
    "# Dictionary to store results\n",
    "model_scores = {}\n",
    "\n",
    "# Define models\n",
    "models = {\n",
    "    \"Linear Regression\": LinearRegression(),\n",
    "    \"Ridge Regression\": Ridge(alpha=1.0),\n",
    "    \"Lasso Regression\": Lasso(alpha=0.01),\n",
    "    \"Random Forest\": RandomForestRegressor(n_estimators=100, random_state=42),\n",
    "    \"XGBoost\": XGBRegressor(n_estimators=100, learning_rate=0.1, random_state=42)\n",
    "}\n",
    "\n",
    "# Train and evaluate each model\n",
    "for name, model in models.items():\n",
    "    model.fit(X_train, y_train)\n",
    "    y_pred = model.predict(X_test)\n",
    "\n",
    "    r2 = r2_score(y_test, y_pred)\n",
    "    mae = mean_absolute_error(y_test, y_pred)\n",
    "    rmse = np.sqrt(mean_squared_error(y_test, y_pred))\n",
    "\n",
    "    model_scores[name] = {\n",
    "        \"R2 Score\": round(r2, 4),\n",
    "        \"MAE\": round(mae, 2),\n",
    "        \"RMSE\": round(rmse, 2)\n",
    "    }\n",
    "\n",
    "# Convert results to DataFrame\n",
    "score_df = pd.DataFrame(model_scores).T.sort_values(by=\"R2 Score\", ascending=False)\n",
    "score_df\n"
   ]
  },
  {
   "cell_type": "code",
   "execution_count": 63,
   "id": "b6cfae53-be67-400d-9e61-132dab70b18c",
   "metadata": {},
   "outputs": [
    {
     "name": "stdout",
     "output_type": "stream",
     "text": [
      " Model saved successfully as model.pkl\n"
     ]
    }
   ],
   "source": [
    "import pickle\n",
    "\n",
    "# Save the model\n",
    "with open(\"model.pkl\", \"wb\") as f:\n",
    "    pickle.dump(model, f)\n",
    "\n",
    "# Save the preprocessor\n",
    "with open(\"preprocessor.pkl\", \"wb\") as f:\n",
    "    pickle.dump(preprocessor, f)\n",
    "print(\" Model saved successfully as model.pkl\")"
   ]
  },
  {
   "cell_type": "code",
   "execution_count": 64,
   "id": "51558b1f-312b-415c-a00d-27e990d32670",
   "metadata": {},
   "outputs": [
    {
     "name": "stdout",
     "output_type": "stream",
     "text": [
      "Requirement already satisfied: seaborn in c:\\users\\navit\\anaconda3\\envs\\myenv\\lib\\site-packages (0.13.2)\n",
      "Requirement already satisfied: numpy!=1.24.0,>=1.20 in c:\\users\\navit\\appdata\\roaming\\python\\python313\\site-packages (from seaborn) (2.3.1)\n",
      "Requirement already satisfied: pandas>=1.2 in c:\\users\\navit\\appdata\\roaming\\python\\python313\\site-packages (from seaborn) (2.3.1)\n",
      "Requirement already satisfied: matplotlib!=3.6.1,>=3.4 in c:\\users\\navit\\anaconda3\\envs\\myenv\\lib\\site-packages (from seaborn) (3.10.3)\n",
      "Requirement already satisfied: contourpy>=1.0.1 in c:\\users\\navit\\anaconda3\\envs\\myenv\\lib\\site-packages (from matplotlib!=3.6.1,>=3.4->seaborn) (1.3.2)\n",
      "Requirement already satisfied: cycler>=0.10 in c:\\users\\navit\\anaconda3\\envs\\myenv\\lib\\site-packages (from matplotlib!=3.6.1,>=3.4->seaborn) (0.12.1)\n",
      "Requirement already satisfied: fonttools>=4.22.0 in c:\\users\\navit\\anaconda3\\envs\\myenv\\lib\\site-packages (from matplotlib!=3.6.1,>=3.4->seaborn) (4.59.0)\n",
      "Requirement already satisfied: kiwisolver>=1.3.1 in c:\\users\\navit\\anaconda3\\envs\\myenv\\lib\\site-packages (from matplotlib!=3.6.1,>=3.4->seaborn) (1.4.8)\n",
      "Requirement already satisfied: packaging>=20.0 in c:\\users\\navit\\anaconda3\\envs\\myenv\\lib\\site-packages (from matplotlib!=3.6.1,>=3.4->seaborn) (24.2)\n",
      "Requirement already satisfied: pillow>=8 in c:\\users\\navit\\anaconda3\\envs\\myenv\\lib\\site-packages (from matplotlib!=3.6.1,>=3.4->seaborn) (11.3.0)\n",
      "Requirement already satisfied: pyparsing>=2.3.1 in c:\\users\\navit\\anaconda3\\envs\\myenv\\lib\\site-packages (from matplotlib!=3.6.1,>=3.4->seaborn) (3.2.3)\n",
      "Requirement already satisfied: python-dateutil>=2.7 in c:\\users\\navit\\appdata\\roaming\\python\\python313\\site-packages (from matplotlib!=3.6.1,>=3.4->seaborn) (2.9.0.post0)\n",
      "Requirement already satisfied: pytz>=2020.1 in c:\\users\\navit\\appdata\\roaming\\python\\python313\\site-packages (from pandas>=1.2->seaborn) (2025.2)\n",
      "Requirement already satisfied: tzdata>=2022.7 in c:\\users\\navit\\appdata\\roaming\\python\\python313\\site-packages (from pandas>=1.2->seaborn) (2025.2)\n",
      "Requirement already satisfied: six>=1.5 in c:\\users\\navit\\appdata\\roaming\\python\\python313\\site-packages (from python-dateutil>=2.7->matplotlib!=3.6.1,>=3.4->seaborn) (1.17.0)\n"
     ]
    }
   ],
   "source": [
    "!pip install seaborn"
   ]
  },
  {
   "cell_type": "code",
   "execution_count": 65,
   "id": "a903ecee-4c7a-4cef-92a4-1285b164d657",
   "metadata": {},
   "outputs": [],
   "source": [
    "import matplotlib.pyplot as plt\n",
    "import seaborn as sns\n",
    "\n",
    "def plot_actual_vs_pred(y_test, y_pred, model_name):\n",
    "    plt.figure(figsize=(8,6))\n",
    "    sns.scatterplot(x=y_test, y=y_pred, alpha=0.7, color=\"dodgerblue\")\n",
    "    plt.plot([y_test.min(), y_test.max()], [y_test.min(), y_test.max()], 'r--')  # perfect prediction line\n",
    "    plt.xlabel(\"Actual Salary\")\n",
    "    plt.ylabel(\"Predicted Salary\")\n",
    "    plt.title(f\" Actual vs Predicted Salary ({model_name})\")\n",
    "    plt.grid(True)\n",
    "    plt.tight_layout()\n",
    "    plt.show()\n",
    "\n"
   ]
  },
  {
   "cell_type": "code",
   "execution_count": 66,
   "id": "ceeef9ab-e998-4bd7-8a74-94a3c460e91e",
   "metadata": {},
   "outputs": [
    {
     "data": {
      "image/png": "[encoded data removed]",
      "text/plain": [
       "<Figure size 640x480 with 2 Axes>"
      ]
     },
     "metadata": {},
     "output_type": "display_data"
    }
   ],
   "source": [
    "sns.heatmap(score_df.T, annot=True, cmap=\"RdYlGn\", fmt=\".2f\")\n",
    "plt.title(\" Model Performance Comparison\")\n",
    "plt.tight_layout()\n",
    "plt.show()\n"
   ]
  },
  {
   "cell_type": "code",
   "execution_count": 67,
   "id": "af24fde3-f273-49cb-a1b9-6567fb500211",
   "metadata": {},
   "outputs": [
    {
     "data": {
      "image/png": "[encoded data removed]",
      "text/plain": [
       "<Figure size 800x600 with 1 Axes>"
      ]
     },
     "metadata": {},
     "output_type": "display_data"
    }
   ],
   "source": [
    "y_pred = model.predict(X_test)\n",
    "plot_actual_vs_pred(y_test, y_pred, \"Random Forest Regressor\")\n"
   ]
  },
  {
   "cell_type": "code",
   "execution_count": 68,
   "id": "638a50e4-9156-4fc5-ab61-7342fe3e4704",
   "metadata": {},
   "outputs": [
    {
     "data": {
      "image/png": "[encoded data removed]",
      "text/plain": [
       "<Figure size 1200x600 with 1 Axes>"
      ]
     },
     "metadata": {},
     "output_type": "display_data"
    }
   ],
   "source": [
    "plt.figure(figsize=(12, 6))\n",
    "sns.barplot(data=df, x='City', y='Salary', hue='Remote Status', palette='coolwarm')\n",
    "plt.title(' Salary by City and Remote Work Status')\n",
    "plt.xticks(rotation=45)\n",
    "plt.tight_layout()\n",
    "plt.show()\n"
   ]
  },
  {
   "cell_type": "code",
   "execution_count": 69,
   "id": "d7fc8be5-eeca-4562-9753-2a8df00fbdc9",
   "metadata": {},
   "outputs": [
    {
     "data": {
      "image/png": "[encoded data removed]",
      "text/plain": [
       "<Figure size 1000x600 with 1 Axes>"
      ]
     },
     "metadata": {},
     "output_type": "display_data"
    }
   ],
   "source": [
    "plt.figure(figsize=(10, 6))\n",
    "sns.lineplot(x=df['Years of Experience'], y=model.predict(preprocessor.transform(df.drop('Salary', axis=1))), color='purple')\n",
    "plt.title(' Predicted Salary vs Years of Experience')\n",
    "plt.xlabel('Years of Experience')\n",
    "plt.ylabel('Predicted Salary')\n",
    "plt.grid(True)\n",
    "plt.tight_layout()\n",
    "plt.show()\n"
   ]
  },
  {
   "cell_type": "code",
   "execution_count": 70,
   "id": "ddf237a5-1af8-4f85-a78e-44010501649c",
   "metadata": {},
   "outputs": [
    {
     "name": "stdout",
     "output_type": "stream",
     "text": [
      "Requirement already satisfied: streamlit in c:\\users\\navit\\anaconda3\\envs\\myenv\\lib\\site-packages (1.47.0)\n",
      "Requirement already satisfied: altair<6,>=4.0 in c:\\users\\navit\\anaconda3\\envs\\myenv\\lib\\site-packages (from streamlit) (5.5.0)\n",
      "Requirement already satisfied: blinker<2,>=1.5.0 in c:\\users\\navit\\appdata\\roaming\\python\\python313\\site-packages (from streamlit) (1.9.0)\n",
      "Requirement already satisfied: cachetools<7,>=4.0 in c:\\users\\navit\\anaconda3\\envs\\myenv\\lib\\site-packages (from streamlit) (6.1.0)\n",
      "Requirement already satisfied: click<9,>=7.0 in c:\\users\\navit\\appdata\\roaming\\python\\python313\\site-packages (from streamlit) (8.2.1)\n",
      "Requirement already satisfied: numpy<3,>=1.23 in c:\\users\\navit\\appdata\\roaming\\python\\python313\\site-packages (from streamlit) (2.3.1)\n",
      "Requirement already satisfied: packaging<26,>=20 in c:\\users\\navit\\anaconda3\\envs\\myenv\\lib\\site-packages (from streamlit) (24.2)\n",
      "Requirement already satisfied: pandas<3,>=1.4.0 in c:\\users\\navit\\appdata\\roaming\\python\\python313\\site-packages (from streamlit) (2.3.1)\n",
      "Requirement already satisfied: pillow<12,>=7.1.0 in c:\\users\\navit\\anaconda3\\envs\\myenv\\lib\\site-packages (from streamlit) (11.3.0)\n",
      "Requirement already satisfied: protobuf<7,>=3.20 in c:\\users\\navit\\anaconda3\\envs\\myenv\\lib\\site-packages (from streamlit) (6.31.1)\n",
      "Requirement already satisfied: pyarrow>=7.0 in c:\\users\\navit\\anaconda3\\envs\\myenv\\lib\\site-packages (from streamlit) (21.0.0)\n",
      "Requirement already satisfied: requests<3,>=2.27 in c:\\users\\navit\\anaconda3\\envs\\myenv\\lib\\site-packages (from streamlit) (2.32.4)\n",
      "Requirement already satisfied: tenacity<10,>=8.1.0 in c:\\users\\navit\\anaconda3\\envs\\myenv\\lib\\site-packages (from streamlit) (9.1.2)\n",
      "Requirement already satisfied: toml<2,>=0.10.1 in c:\\users\\navit\\anaconda3\\envs\\myenv\\lib\\site-packages (from streamlit) (0.10.2)\n",
      "Requirement already satisfied: typing-extensions<5,>=4.4.0 in c:\\users\\navit\\appdata\\roaming\\python\\python313\\site-packages (from streamlit) (4.14.1)\n",
      "Requirement already satisfied: watchdog<7,>=2.1.5 in c:\\users\\navit\\anaconda3\\envs\\myenv\\lib\\site-packages (from streamlit) (6.0.0)\n",
      "Requirement already satisfied: gitpython!=3.1.19,<4,>=3.0.7 in c:\\users\\navit\\anaconda3\\envs\\myenv\\lib\\site-packages (from streamlit) (3.1.44)\n",
      "Requirement already satisfied: pydeck<1,>=0.8.0b4 in c:\\users\\navit\\anaconda3\\envs\\myenv\\lib\\site-packages (from streamlit) (0.9.1)\n",
      "Requirement already satisfied: tornado!=6.5.0,<7,>=6.0.3 in c:\\users\\navit\\anaconda3\\envs\\myenv\\lib\\site-packages (from streamlit) (6.5.1)\n",
      "Requirement already satisfied: jinja2 in c:\\users\\navit\\appdata\\roaming\\python\\python313\\site-packages (from altair<6,>=4.0->streamlit) (3.1.6)\n",
      "Requirement already satisfied: jsonschema>=3.0 in c:\\users\\navit\\anaconda3\\envs\\myenv\\lib\\site-packages (from altair<6,>=4.0->streamlit) (4.23.0)\n",
      "Requirement already satisfied: narwhals>=1.14.2 in c:\\users\\navit\\anaconda3\\envs\\myenv\\lib\\site-packages (from altair<6,>=4.0->streamlit) (1.47.1)\n",
      "Requirement already satisfied: colorama in c:\\users\\navit\\appdata\\roaming\\python\\python313\\site-packages (from click<9,>=7.0->streamlit) (0.4.6)\n",
      "Requirement already satisfied: gitdb<5,>=4.0.1 in c:\\users\\navit\\anaconda3\\envs\\myenv\\lib\\site-packages (from gitpython!=3.1.19,<4,>=3.0.7->streamlit) (4.0.12)\n",
      "Requirement already satisfied: smmap<6,>=3.0.1 in c:\\users\\navit\\anaconda3\\envs\\myenv\\lib\\site-packages (from gitdb<5,>=4.0.1->gitpython!=3.1.19,<4,>=3.0.7->streamlit) (5.0.2)\n",
      "Requirement already satisfied: python-dateutil>=2.8.2 in c:\\users\\navit\\appdata\\roaming\\python\\python313\\site-packages (from pandas<3,>=1.4.0->streamlit) (2.9.0.post0)\n",
      "Requirement already satisfied: pytz>=2020.1 in c:\\users\\navit\\appdata\\roaming\\python\\python313\\site-packages (from pandas<3,>=1.4.0->streamlit) (2025.2)\n",
      "Requirement already satisfied: tzdata>=2022.7 in c:\\users\\navit\\appdata\\roaming\\python\\python313\\site-packages (from pandas<3,>=1.4.0->streamlit) (2025.2)\n",
      "Requirement already satisfied: charset_normalizer<4,>=2 in c:\\users\\navit\\anaconda3\\envs\\myenv\\lib\\site-packages (from requests<3,>=2.27->streamlit) (3.3.2)\n",
      "Requirement already satisfied: idna<4,>=2.5 in c:\\users\\navit\\appdata\\roaming\\python\\python313\\site-packages (from requests<3,>=2.27->streamlit) (3.10)\n",
      "Requirement already satisfied: urllib3<3,>=1.21.1 in c:\\users\\navit\\anaconda3\\envs\\myenv\\lib\\site-packages (from requests<3,>=2.27->streamlit) (2.5.0)\n",
      "Requirement already satisfied: certifi>=2017.4.17 in c:\\users\\navit\\appdata\\roaming\\python\\python313\\site-packages (from requests<3,>=2.27->streamlit) (2025.7.9)\n",
      "Requirement already satisfied: MarkupSafe>=2.0 in c:\\users\\navit\\appdata\\roaming\\python\\python313\\site-packages (from jinja2->altair<6,>=4.0->streamlit) (3.0.2)\n",
      "Requirement already satisfied: attrs>=22.2.0 in c:\\users\\navit\\anaconda3\\envs\\myenv\\lib\\site-packages (from jsonschema>=3.0->altair<6,>=4.0->streamlit) (24.3.0)\n",
      "Requirement already satisfied: jsonschema-specifications>=2023.03.6 in c:\\users\\navit\\anaconda3\\envs\\myenv\\lib\\site-packages (from jsonschema>=3.0->altair<6,>=4.0->streamlit) (2023.7.1)\n",
      "Requirement already satisfied: referencing>=0.28.4 in c:\\users\\navit\\anaconda3\\envs\\myenv\\lib\\site-packages (from jsonschema>=3.0->altair<6,>=4.0->streamlit) (0.30.2)\n",
      "Requirement already satisfied: rpds-py>=0.7.1 in c:\\users\\navit\\anaconda3\\envs\\myenv\\lib\\site-packages (from jsonschema>=3.0->altair<6,>=4.0->streamlit) (0.22.3)\n",
      "Requirement already satisfied: six>=1.5 in c:\\users\\navit\\appdata\\roaming\\python\\python313\\site-packages (from python-dateutil>=2.8.2->pandas<3,>=1.4.0->streamlit) (1.17.0)\n"
     ]
    }
   ],
   "source": [
    "!pip install streamlit"
   ]
  },
  {
   "cell_type": "code",
   "execution_count": 71,
   "id": "9831e5ee-5b71-4088-94f6-109f55dd31a0",
   "metadata": {},
   "outputs": [
    {
     "name": "stdout",
     "output_type": "stream",
     "text": [
      "Overwriting app.py\n"
     ]
    }
   ],
   "source": [
    "%%writefile app.py\n",
    "import streamlit as st\n",
    "import pandas as pd\n",
    "import numpy as np\n",
    "import pickle\n",
    "\n",
    "# Load model & preprocessor\n",
    "model = pickle.load(open(\"model.pkl\", \"rb\"))\n",
    "preprocessor = pickle.load(open(\"preprocessor.pkl\", \"rb\"))\n",
    "\n",
    "st.set_page_config(page_title=\" Employee Salary Predictor\", layout=\"wide\")\n",
    "\n",
    "st.title(\" Employee Salary Prediction App\")\n",
    "st.markdown(\"Use this app to predict salary based on employee information.\")\n",
    "\n",
    "# Sidebar form input\n",
    "st.sidebar.header(\" Enter Employee Details\")\n",
    "\n",
    "def user_input_features():\n",
    "    age = st.sidebar.slider('Age', 18, 65, 30)\n",
    "    gender = st.sidebar.selectbox('Gender', ['Male', 'Female', 'Other'])\n",
    "    experience = st.sidebar.slider('Years of Experience', 0, 40, 5)\n",
    "    education = st.sidebar.selectbox('Education Level', ['High School', 'Bachelor', 'Master', 'PhD'])\n",
    "    job = st.sidebar.selectbox('Job Title', ['Data Analyst', 'Data Scientist', 'ML Engineer', 'Software Engineer'])\n",
    "    city = st.sidebar.selectbox('City', ['Hyderabad', 'Bangalore', 'Mumbai', 'Delhi', 'Chennai'])\n",
    "    seniority = st.sidebar.selectbox('Seniority Level', ['Junior', 'Mid', 'Senior', 'Lead'])\n",
    "    industry = st.sidebar.selectbox('Industry', ['Tech', 'Finance', 'Healthcare', 'Retail', 'Education'])\n",
    "    remote = st.sidebar.selectbox('Remote Status', ['Remote', 'In-Office', 'Hybrid'])\n",
    "\n",
    "    data = {\n",
    "        'Age': age,\n",
    "        'Gender': gender,\n",
    "        'Years of Experience': experience,\n",
    "        'Education Level': education,\n",
    "        'Job Title': job,\n",
    "        'City': city,\n",
    "        'Seniority Level': seniority,\n",
    "        'Industry': industry,\n",
    "        'Remote Status': remote\n",
    "    }\n",
    "    return pd.DataFrame([data])\n",
    "\n",
    "\n",
    "input_df = user_input_features()\n",
    "\n",
    "# Show input\n",
    "st.subheader(' Input Data')\n",
    "st.write(input_df)\n",
    "\n",
    "# Preprocess input\n",
    "X = preprocessor.transform(input_df)\n",
    "\n",
    "# Predict\n",
    "prediction = model.predict(X)[0]\n",
    "\n",
    "# Output\n",
    "st.subheader(\" Predicted Salary:\")\n",
    "st.success(f\"₹ {prediction:,.2f}\")\n",
    "\n",
    "# Add footer\n",
    "st.markdown(\"---\")\n",
    "st.markdown(\" Built by Navitha | IBM SkillBuild Internship Project\")\n",
    "\n"
   ]
  },
  {
   "cell_type": "code",
   "execution_count": 72,
   "id": "6bd1e3da-e05f-4fb5-aa26-181551fbbdf0",
   "metadata": {},
   "outputs": [
    {
     "name": "stdout",
     "output_type": "stream",
     "text": [
      "Requirement already satisfied: streamlit in c:\\users\\navit\\anaconda3\\envs\\myenv\\lib\\site-packages (1.47.0)\n",
      "Requirement already satisfied: pyngrok in c:\\users\\navit\\anaconda3\\envs\\myenv\\lib\\site-packages (7.2.12)\n",
      "Requirement already satisfied: altair<6,>=4.0 in c:\\users\\navit\\anaconda3\\envs\\myenv\\lib\\site-packages (from streamlit) (5.5.0)\n",
      "Requirement already satisfied: blinker<2,>=1.5.0 in c:\\users\\navit\\appdata\\roaming\\python\\python313\\site-packages (from streamlit) (1.9.0)\n",
      "Requirement already satisfied: cachetools<7,>=4.0 in c:\\users\\navit\\anaconda3\\envs\\myenv\\lib\\site-packages (from streamlit) (6.1.0)\n",
      "Requirement already satisfied: click<9,>=7.0 in c:\\users\\navit\\appdata\\roaming\\python\\python313\\site-packages (from streamlit) (8.2.1)\n",
      "Requirement already satisfied: numpy<3,>=1.23 in c:\\users\\navit\\appdata\\roaming\\python\\python313\\site-packages (from streamlit) (2.3.1)\n",
      "Requirement already satisfied: packaging<26,>=20 in c:\\users\\navit\\anaconda3\\envs\\myenv\\lib\\site-packages (from streamlit) (24.2)\n",
      "Requirement already satisfied: pandas<3,>=1.4.0 in c:\\users\\navit\\appdata\\roaming\\python\\python313\\site-packages (from streamlit) (2.3.1)\n",
      "Requirement already satisfied: pillow<12,>=7.1.0 in c:\\users\\navit\\anaconda3\\envs\\myenv\\lib\\site-packages (from streamlit) (11.3.0)\n",
      "Requirement already satisfied: protobuf<7,>=3.20 in c:\\users\\navit\\anaconda3\\envs\\myenv\\lib\\site-packages (from streamlit) (6.31.1)\n",
      "Requirement already satisfied: pyarrow>=7.0 in c:\\users\\navit\\anaconda3\\envs\\myenv\\lib\\site-packages (from streamlit) (21.0.0)\n",
      "Requirement already satisfied: requests<3,>=2.27 in c:\\users\\navit\\anaconda3\\envs\\myenv\\lib\\site-packages (from streamlit) (2.32.4)\n",
      "Requirement already satisfied: tenacity<10,>=8.1.0 in c:\\users\\navit\\anaconda3\\envs\\myenv\\lib\\site-packages (from streamlit) (9.1.2)\n",
      "Requirement already satisfied: toml<2,>=0.10.1 in c:\\users\\navit\\anaconda3\\envs\\myenv\\lib\\site-packages (from streamlit) (0.10.2)\n",
      "Requirement already satisfied: typing-extensions<5,>=4.4.0 in c:\\users\\navit\\appdata\\roaming\\python\\python313\\site-packages (from streamlit) (4.14.1)\n",
      "Requirement already satisfied: watchdog<7,>=2.1.5 in c:\\users\\navit\\anaconda3\\envs\\myenv\\lib\\site-packages (from streamlit) (6.0.0)\n",
      "Requirement already satisfied: gitpython!=3.1.19,<4,>=3.0.7 in c:\\users\\navit\\anaconda3\\envs\\myenv\\lib\\site-packages (from streamlit) (3.1.44)\n",
      "Requirement already satisfied: pydeck<1,>=0.8.0b4 in c:\\users\\navit\\anaconda3\\envs\\myenv\\lib\\site-packages (from streamlit) (0.9.1)\n",
      "Requirement already satisfied: tornado!=6.5.0,<7,>=6.0.3 in c:\\users\\navit\\anaconda3\\envs\\myenv\\lib\\site-packages (from streamlit) (6.5.1)\n",
      "Requirement already satisfied: jinja2 in c:\\users\\navit\\appdata\\roaming\\python\\python313\\site-packages (from altair<6,>=4.0->streamlit) (3.1.6)\n",
      "Requirement already satisfied: jsonschema>=3.0 in c:\\users\\navit\\anaconda3\\envs\\myenv\\lib\\site-packages (from altair<6,>=4.0->streamlit) (4.23.0)\n",
      "Requirement already satisfied: narwhals>=1.14.2 in c:\\users\\navit\\anaconda3\\envs\\myenv\\lib\\site-packages (from altair<6,>=4.0->streamlit) (1.47.1)\n",
      "Requirement already satisfied: colorama in c:\\users\\navit\\appdata\\roaming\\python\\python313\\site-packages (from click<9,>=7.0->streamlit) (0.4.6)\n",
      "Requirement already satisfied: gitdb<5,>=4.0.1 in c:\\users\\navit\\anaconda3\\envs\\myenv\\lib\\site-packages (from gitpython!=3.1.19,<4,>=3.0.7->streamlit) (4.0.12)\n",
      "Requirement already satisfied: smmap<6,>=3.0.1 in c:\\users\\navit\\anaconda3\\envs\\myenv\\lib\\site-packages (from gitdb<5,>=4.0.1->gitpython!=3.1.19,<4,>=3.0.7->streamlit) (5.0.2)\n",
      "Requirement already satisfied: python-dateutil>=2.8.2 in c:\\users\\navit\\appdata\\roaming\\python\\python313\\site-packages (from pandas<3,>=1.4.0->streamlit) (2.9.0.post0)\n",
      "Requirement already satisfied: pytz>=2020.1 in c:\\users\\navit\\appdata\\roaming\\python\\python313\\site-packages (from pandas<3,>=1.4.0->streamlit) (2025.2)\n",
      "Requirement already satisfied: tzdata>=2022.7 in c:\\users\\navit\\appdata\\roaming\\python\\python313\\site-packages (from pandas<3,>=1.4.0->streamlit) (2025.2)\n",
      "Requirement already satisfied: charset_normalizer<4,>=2 in c:\\users\\navit\\anaconda3\\envs\\myenv\\lib\\site-packages (from requests<3,>=2.27->streamlit) (3.3.2)\n",
      "Requirement already satisfied: idna<4,>=2.5 in c:\\users\\navit\\appdata\\roaming\\python\\python313\\site-packages (from requests<3,>=2.27->streamlit) (3.10)\n",
      "Requirement already satisfied: urllib3<3,>=1.21.1 in c:\\users\\navit\\anaconda3\\envs\\myenv\\lib\\site-packages (from requests<3,>=2.27->streamlit) (2.5.0)\n",
      "Requirement already satisfied: certifi>=2017.4.17 in c:\\users\\navit\\appdata\\roaming\\python\\python313\\site-packages (from requests<3,>=2.27->streamlit) (2025.7.9)\n",
      "Requirement already satisfied: PyYAML>=5.1 in c:\\users\\navit\\anaconda3\\envs\\myenv\\lib\\site-packages (from pyngrok) (6.0.2)\n",
      "Requirement already satisfied: MarkupSafe>=2.0 in c:\\users\\navit\\appdata\\roaming\\python\\python313\\site-packages (from jinja2->altair<6,>=4.0->streamlit) (3.0.2)\n",
      "Requirement already satisfied: attrs>=22.2.0 in c:\\users\\navit\\anaconda3\\envs\\myenv\\lib\\site-packages (from jsonschema>=3.0->altair<6,>=4.0->streamlit) (24.3.0)\n",
      "Requirement already satisfied: jsonschema-specifications>=2023.03.6 in c:\\users\\navit\\anaconda3\\envs\\myenv\\lib\\site-packages (from jsonschema>=3.0->altair<6,>=4.0->streamlit) (2023.7.1)\n",
      "Requirement already satisfied: referencing>=0.28.4 in c:\\users\\navit\\anaconda3\\envs\\myenv\\lib\\site-packages (from jsonschema>=3.0->altair<6,>=4.0->streamlit) (0.30.2)\n",
      "Requirement already satisfied: rpds-py>=0.7.1 in c:\\users\\navit\\anaconda3\\envs\\myenv\\lib\\site-packages (from jsonschema>=3.0->altair<6,>=4.0->streamlit) (0.22.3)\n",
      "Requirement already satisfied: six>=1.5 in c:\\users\\navit\\appdata\\roaming\\python\\python313\\site-packages (from python-dateutil>=2.8.2->pandas<3,>=1.4.0->streamlit) (1.17.0)\n"
     ]
    }
   ],
   "source": [
    "!pip install streamlit pyngrok"
   ]
  },
  {
   "cell_type": "code",
   "execution_count": 73,
   "id": "f551b7d0-30c2-4d1a-9794-bdd0ea9c9f9d",
   "metadata": {},
   "outputs": [
    {
     "name": "stdout",
     "output_type": "stream",
     "text": [
      "Authtoken saved to configuration file: C:\\Users\\navit\\AppData\\Local/ngrok/ngrok.yml\n"
     ]
    }
   ],
   "source": [
    "!ngrok authtoken 305FgYTOwjvQT2tOtOrBfNY5J9P_7fNt8jkNDsG8Sw9neetuY"
   ]
  },
  {
   "cell_type": "code",
   "execution_count": 74,
   "id": "dc195096-1f8e-4ad2-b655-3383bc2e62e9",
   "metadata": {},
   "outputs": [],
   "source": [
    "import os\n",
    "import threading\n",
    "\n",
    "def run_streamlit():\n",
    "    os.system('stremlit run app.py --server.port 8502')\n",
    "\n",
    "thread=threading.Thread(target=run_streamlit)\n",
    "thread.start()"
   ]
  },
  {
   "cell_type": "code",
   "execution_count": 75,
   "id": "ebd81a86-d980-4197-a2d2-6474dbd71800",
   "metadata": {},
   "outputs": [
    {
     "name": "stdout",
     "output_type": "stream",
     "text": [
      "Your Stremlit App is live here: NgrokTunnel: \"https://576ed7b4b0c6.ngrok-free.app\" -> \"http://localhost:8502\"\n"
     ]
    }
   ],
   "source": [
    "from pyngrok import ngrok\n",
    "import time\n",
    "\n",
    "time.sleep(5)\n",
    "\n",
    "public_url=ngrok.connect(8502)\n",
    "print(\"Your Stremlit App is live here:\", public_url)"
   ]
  },
  {
   "cell_type": "code",
   "execution_count": null,
   "id": "da8a6cbb-e2ff-438f-9884-ca17f2de3951",
   "metadata": {},
   "outputs": [],
   "source": []
  }
 ],
 "metadata": {
  "kernelspec": {
   "display_name": "Python 3 (ipykernel)",
   "language": "python",
   "name": "python3"
  },
  "language_info": {
   "codemirror_mode": {
    "name": "ipython",
    "version": 3
   },
   "file_extension": ".py",
   "mimetype": "text/x-python",
   "name": "python",
   "nbconvert_exporter": "python",
   "pygments_lexer": "ipython3",
   "version": "3.13.5"
  }
 },
 "nbformat": 4,
 "nbformat_minor": 5
}
